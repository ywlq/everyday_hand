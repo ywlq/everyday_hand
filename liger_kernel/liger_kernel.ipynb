{
 "cells": [
  {
   "cell_type": "markdown",
   "metadata": {},
   "source": [
    "# liger_kernel"
   ]
  },
  {
   "cell_type": "markdown",
   "metadata": {},
   "source": [
    "加快训练速度，减少内存使用  \n",
    "<img src=\"./liger_kernel.png\" width=\"900\" height=\"400\">  "
   ]
  },
  {
   "cell_type": "markdown",
   "metadata": {},
   "source": [
    "在transformers的trainer里面检查是否使用liger_kernel,并且是否是PreTrainedModel，若是则_apply_liger_kernel_to_instance(model=model)"
   ]
  },
  {
   "cell_type": "code",
   "execution_count": null,
   "metadata": {},
   "outputs": [],
   "source": [
    "# /home/xj/transformers/src/transformers/trainer.py\n",
    "\n",
    "class Trainer():\n",
    "    def __init__():\n",
    "        if self.args.use_liger_kernel:\n",
    "            if is_liger_kernel_available():\n",
    "                from liger_kernel.transformers import _apply_liger_kernel_to_instance\n",
    "\n",
    "                if isinstance(model, PreTrainedModel):\n",
    "                    # Patch the model with liger kernels. Use the default kernel configurations.\n",
    "                    _apply_liger_kernel_to_instance(model=model)\n",
    "                else:\n",
    "                    logger.warning(\n",
    "                        \"The model is not an instance of PreTrainedModel. No liger kernels will be applied.\"\n",
    "                    )\n",
    "            else:\n",
    "                raise ImportError(\n",
    "                    \"You have set `use_liger_kernel` to `True` but liger-kernel >= 0.3.0 is not available. \"\n",
    "                    \"Please install it with `pip install liger-kernel`\"\n",
    "                )"
   ]
  },
  {
   "cell_type": "markdown",
   "metadata": {},
   "source": [
    "以mlp方法为例"
   ]
  },
  {
   "cell_type": "code",
   "execution_count": null,
   "metadata": {},
   "outputs": [],
   "source": [
    "# 直接将llama的mlp方法替换成liger的mlp方法\n",
    "modeling_llama.LlamaMLP = LigerSwiGLUMLP"
   ]
  },
  {
   "cell_type": "code",
   "execution_count": null,
   "metadata": {},
   "outputs": [],
   "source": [
    "class LlamaMLP(nn.Module):\n",
    "    def __init__(self, config):\n",
    "        super().__init__()\n",
    "        self.config = config\n",
    "        self.hidden_size = config.hidden_size\n",
    "        self.intermediate_size = config.intermediate_size\n",
    "        self.gate_proj = nn.Linear(self.hidden_size, self.intermediate_size, bias=config.mlp_bias)\n",
    "        self.up_proj = nn.Linear(self.hidden_size, self.intermediate_size, bias=config.mlp_bias)\n",
    "        self.down_proj = nn.Linear(self.intermediate_size, self.hidden_size, bias=config.mlp_bias)\n",
    "        self.act_fn = ACT2FN[config.hidden_act]\n",
    "\n",
    "    def forward(self, x):\n",
    "        down_proj = self.down_proj(self.act_fn(self.gate_proj(x)) * self.up_proj(x))\n",
    "        return down_proj\n",
    "\n",
    "class LigerSwiGLUMLP(nn.Module):\n",
    "    def __init__(self, config):\n",
    "        super().__init__()\n",
    "        self.config = config\n",
    "        self.hidden_size = config.hidden_size\n",
    "        self.intermediate_size = config.intermediate_size\n",
    "        self.gate_proj = nn.Linear(self.hidden_size, self.intermediate_size, bias=False)\n",
    "        self.up_proj = nn.Linear(self.hidden_size, self.intermediate_size, bias=False)\n",
    "        self.down_proj = nn.Linear(self.intermediate_size, self.hidden_size, bias=False)\n",
    "        if config.hidden_act not in [\"silu\", \"swish\"]:\n",
    "            raise ValueError(f\"Activation function {config.hidden_act} not supported.\")\n",
    "\n",
    "    def forward(self, x):\n",
    "\n",
    "        return self.down_proj(\n",
    "            LigerSiLUMulFunction.apply(self.gate_proj(x), self.up_proj(x))\n",
    "        )"
   ]
  },
  {
   "cell_type": "markdown",
   "metadata": {},
   "source": [
    "LigerSiLUMulFunction中自定义算子"
   ]
  }
 ],
 "metadata": {
  "language_info": {
   "name": "python"
  }
 },
 "nbformat": 4,
 "nbformat_minor": 2
}
