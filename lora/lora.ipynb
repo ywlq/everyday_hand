{
 "cells": [
  {
   "cell_type": "markdown",
   "metadata": {},
   "source": [
    "# LoRA"
   ]
  },
  {
   "cell_type": "markdown",
   "metadata": {},
   "source": [
    "![lora](./lora.png)"
   ]
  },
  {
   "cell_type": "markdown",
   "metadata": {},
   "source": [
    "![lora](./lora_formula.png)"
   ]
  },
  {
   "cell_type": "code",
   "execution_count": 10,
   "metadata": {},
   "outputs": [
    {
     "name": "stdout",
     "output_type": "stream",
     "text": [
      "torch.Size([10, 1])\n"
     ]
    }
   ],
   "source": [
    "import torch\n",
    "import torch.nn as nn\n",
    "import torch.nn.functional as F\n",
    "import math\n",
    "\n",
    "class LoRALayer(nn.Module):\n",
    "    def __init__(self, in_features, out_features, rank=16, lora_alpha=16, dropout=0.5, merge=True):\n",
    "        super().__init__()\n",
    "        self.in_features = in_features\n",
    "        self.out_features = out_features\n",
    "        self.rank = rank\n",
    "        self.lora_alpha = lora_alpha\n",
    "        self.dropout = dropout\n",
    "        self.merge = merge\n",
    "        #self.linear.weight的shape是[out_features, in_features]，而不是[in_features, out_features]\n",
    "        self.linear= nn.Linear(in_features, out_features)\n",
    "\n",
    "        if self.rank>0:\n",
    "            self.lora_A = nn.Parameter(torch.zeros(rank, in_features))\n",
    "            self.lora_B = nn.Parameter(torch.zeros(out_features, rank))\n",
    "            self.scaling = self.lora_alpha / self.rank\n",
    "            self.linear.weight.requires_grad=False\n",
    "\n",
    "        if self.dropout>0:\n",
    "            self.dropout = nn.Dropout(dropout)\n",
    "        else:\n",
    "            self.dropout = nn.Identity()\n",
    "\n",
    "        self.initial_weight()\n",
    "\n",
    "    def initial_weight(self):\n",
    "        if self.rank>0:\n",
    "            nn.init.kaiming_uniform_(self.lora_A, a=math.sqrt(5))\n",
    "            nn.init.zeros_(self.lora_B)\n",
    "    \n",
    "    def forward(self, x):\n",
    "        if self.rank>0 and self.merge:\n",
    "            output= F.linear(x,self.linear.weight+self.scaling*self.lora_B@self.lora_A,self.linear.bias)\n",
    "        else:\n",
    "            output= self.linear(x)\n",
    "\n",
    "        output = self.dropout(output)\n",
    "        return output\n",
    "\n",
    "lora=LoRALayer(1,10,1,0.5,0.5)\n",
    "print(lora.linear.weight.shape)"
   ]
  }
 ],
 "metadata": {
  "kernelspec": {
   "display_name": "llama_factory_clone",
   "language": "python",
   "name": "python3"
  },
  "language_info": {
   "codemirror_mode": {
    "name": "ipython",
    "version": 3
   },
   "file_extension": ".py",
   "mimetype": "text/x-python",
   "name": "python",
   "nbconvert_exporter": "python",
   "pygments_lexer": "ipython3",
   "version": "3.10.14"
  }
 },
 "nbformat": 4,
 "nbformat_minor": 2
}
