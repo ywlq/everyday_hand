{
 "cells": [
  {
   "cell_type": "markdown",
   "metadata": {},
   "source": [
    "# MOE"
   ]
  },
  {
   "cell_type": "markdown",
   "metadata": {},
   "source": [
    "<img src=\"./moe.png\" width=\"500\" height=\"400\">"
   ]
  },
  {
   "cell_type": "code",
   "execution_count": null,
   "metadata": {},
   "outputs": [],
   "source": [
    "import torch\n",
    "import torch.nn as nn\n",
    "import torch.nn.functional as F\n",
    "\n",
    "class Linear(nn.Module):\n",
    "    def __init__(self, in_features, out_features):\n",
    "        super(Linear, self).__init__()\n",
    "        self.fc=nn.Linear(in_features,out_features)\n",
    "\n",
    "    def forward(self, x):\n",
    "        return self.fc(x)\n",
    "\n",
    "class MOE(nn.Module):\n",
    "    def __init__(self, in_features, out_features, num_experts):\n",
    "        super(MOE, self).__init__()\n",
    "        self.num_experts = num_experts\n",
    "        self.experts= nn.ModuleList([Linear(in_features,out_features) for _ in range(num_experts)])\n",
    "        self.gate=Linear(in_features,num_experts)\n",
    "\n",
    "\n",
    "    def forward(self, x):\n",
    "        #x shape [batch_size, in_features]  gate(x)/gate_scores shape [batch_size, num_experts] \n",
    "        #expert(x) shape [batch_size, out_features]\n",
    "        gate_socres=F.softmax(self.gate(x),dim=-1)\n",
    "        #expert_outputs shape [batch_size, num_experts, out_features]\n",
    "        expert_outputs = torch.stack([expert(x) for expert in self.experts], dim=1)\n",
    "        #output shape [batch_size, out_features]\n",
    "        output=torch.bmm(gate_socres.unsqueeze(1),expert_outputs).squeeze(1)\n",
    "        return output\n",
    "\n"
   ]
  }
 ],
 "metadata": {
  "kernelspec": {
   "display_name": "llama_factory_clone",
   "language": "python",
   "name": "python3"
  },
  "language_info": {
   "name": "python",
   "version": "3.10.14"
  }
 },
 "nbformat": 4,
 "nbformat_minor": 2
}
