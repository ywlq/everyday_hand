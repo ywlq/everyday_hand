{
 "cells": [
  {
   "cell_type": "markdown",
   "metadata": {},
   "source": [
    "# 在服务器端配置ssh免密登录"
   ]
  },
  {
   "cell_type": "markdown",
   "metadata": {},
   "source": [
    "目的：在本地vscode能够免密登录服务器"
   ]
  },
  {
   "cell_type": "markdown",
   "metadata": {},
   "source": [
    "1. 首先生成公钥和私钥"
   ]
  },
  {
   "cell_type": "code",
   "execution_count": null,
   "metadata": {
    "vscode": {
     "languageId": "shellscript"
    }
   },
   "outputs": [],
   "source": [
    "ssh-keygen -t rsa -b 4096"
   ]
  },
  {
   "cell_type": "markdown",
   "metadata": {},
   "source": [
    "结果：在~/.ssh/目录下生成id_rsa和id_rsa.pub两个文件  \n",
    "\n"
   ]
  },
  {
   "cell_type": "markdown",
   "metadata": {},
   "source": [
    "2. 将公钥id_rsa.pub添加到服务器端的authorized_keys文件中，直接复制过去即可"
   ]
  },
  {
   "cell_type": "markdown",
   "metadata": {},
   "source": [
    "3. 将密钥id_rsa拷贝到本地的C:\\Users\\xxxx\\.ssh目录下"
   ]
  },
  {
   "cell_type": "code",
   "execution_count": null,
   "metadata": {
    "vscode": {
     "languageId": "shellscript"
    }
   },
   "outputs": [],
   "source": [
    "Host xx (随便起一个名字)\n",
    "    HostName xx.xx.xx.xx (服务器ip)\n",
    "    Port xx (端口)\n",
    "    User xxxx (用户名)\n",
    "    IdentityFile \"C:\\Users\\xx\\.ssh\\id_rsa\" (密钥文件)\n"
   ]
  },
  {
   "cell_type": "markdown",
   "metadata": {},
   "source": [
    "4. 将上面的配置文件按照实际情况改为自己的"
   ]
  },
  {
   "cell_type": "markdown",
   "metadata": {},
   "source": [
    "5. 然后就简单的完成了免密登录"
   ]
  }
 ],
 "metadata": {
  "language_info": {
   "name": "python"
  }
 },
 "nbformat": 4,
 "nbformat_minor": 2
}
